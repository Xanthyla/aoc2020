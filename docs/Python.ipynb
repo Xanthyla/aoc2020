{
 "cells": [
  {
   "cell_type": "code",
   "execution_count": 2,
   "metadata": {},
   "outputs": [],
   "source": [
    "import datetime as dt\n",
    "f = open(\"input.txt\", \"r\")\n",
    "input = f.read().split('\\n')\n",
    "f.close()"
   ]
  },
  {
   "cell_type": "code",
   "execution_count": 3,
   "metadata": {
    "scrolled": true
   },
   "outputs": [
    {
     "name": "stdout",
     "output_type": "stream",
     "text": [
      "[1632, 1438, 1811, 1943, 1883, 1698, 1976, 1972, 1794, 1726, 1850, 1789, 1524, 1701, 1454, 1594, 1655, 1018, 1828, 1867, 1959, 1541, 1596, 1998, 1916, 1894, 1727, 1812, 1800, 1897, 1534, 1712, 1825, 1629, 1827, 81, 1855, 1621, 1694, 1663, 1793, 1685, 1616, 1899, 1688, 1652, 1719, 1589, 1649, 1742, 1905, 922, 1695, 1747, 1989, 1968, 1678, 1709, 1938, 1920, 1429, 1556, 2005, 1728, 1484, 1746, 1702, 1456, 1917, 1670, 1433, 1538, 1806, 1667, 1505, 963, 1478, 2003, 1955, 1689, 1490, 1523, 1615, 1784, 1624, 583, 1465, 1443, 1489, 1873, 1485, 1773, 1704, 352, 505, 1705, 1844, 1599, 1778, 1846, 1533, 1535, 1965, 1987, 828, 1755, 1823, 1639, 1981, 1763, 1758, 1819, 1569, 1580, 358, 1786, 1964, 1604, 1805, 1822, 1941, 1993, 1939, 1975, 1966, 1852, 1310, 1687, 1718, 641, 1715, 1995, 1603, 1444, 1641, 1961, 1536, 1771, 1267, 1749, 1944, 1519, 1445, 1818, 1558, 1922, 1452, 1901, 1915, 1957, 1840, 1785, 1946, 1683, 1918, 1847, 1690, 1716, 1627, 1571, 1985, 1455, 435, 1856, 1527, 1660, 1555, 1557, 1591, 1906, 1646, 1656, 1620, 1618, 1598, 1606, 1808, 1509, 1551, 1723, 1835, 1610, 1820, 1942, 1767, 1549, 1607, 1781, 1612, 1864, 2007, 1908, 1650, 1449, 1886, 1878, 1895, 1869, 1469, 1507]\n"
     ]
    }
   ],
   "source": [
    "parse = [int(i) for i in input]\n",
    "print(parse)"
   ]
  },
  {
   "cell_type": "markdown",
   "metadata": {},
   "source": [
    "# Part 1"
   ]
  },
  {
   "cell_type": "code",
   "execution_count": 9,
   "metadata": {},
   "outputs": [],
   "source": [
    "def searchPairs(array, sum, components, compFound):\n",
    "    for i in array:\n",
    "        if (components == 2):\n",
    "            diff = sum-i\n",
    "            for j in compFound:\n",
    "                diff -= j\n",
    "            if diff in array:\n",
    "                compFound.extend([diff,i])\n",
    "                return compFound\n",
    "                break\n",
    "        else:\n",
    "            out = searchPairs(array, sum, components-1, compFound + [i])\n",
    "            if out != None:\n",
    "                return out"
   ]
  },
  {
   "cell_type": "code",
   "execution_count": 5,
   "metadata": {},
   "outputs": [],
   "source": [
    "def returnInfo(array):\n",
    "    str1 = str(array[0])\n",
    "    for i in array[1:]:\n",
    "        str1 += (\" + \" + str(i))\n",
    "    str1 += \" = 2020\\n\"\n",
    "\n",
    "    str2 = str(array[0])\n",
    "    prod = array[0]\n",
    "    for i in array[1:]:\n",
    "        str2 += (\" * \" + str(i))\n",
    "        prod *= i\n",
    "    str2 += (\" = \" + str(prod))\n",
    "    \n",
    "    return str1 + str2"
   ]
  },
  {
   "cell_type": "code",
   "execution_count": 10,
   "metadata": {},
   "outputs": [
    {
     "name": "stdout",
     "output_type": "stream",
     "text": [
      "1939 + 81 = 2020\n",
      "1939 * 81 = 157059\n",
      "Took 0 ms to finish!\n"
     ]
    }
   ],
   "source": [
    "start = dt.datetime.now()\n",
    "out = searchPairs(parse, 2020, 2, [])\n",
    "end = dt.datetime.now()\n",
    "\n",
    "print(returnInfo(out))\n",
    "\n",
    "print(\"Took {} ms to finish!\".format((end-start).microseconds))"
   ]
  },
  {
   "cell_type": "markdown",
   "metadata": {},
   "source": [
    "# Part 2"
   ]
  },
  {
   "cell_type": "code",
   "execution_count": 11,
   "metadata": {},
   "outputs": [
    {
     "name": "stdout",
     "output_type": "stream",
     "text": [
      "352 + 1310 + 358 = 2020\n",
      "352 * 1310 * 358 = 165080960\n",
      "Took 40.921 ms to finish!\n"
     ]
    }
   ],
   "source": [
    "start = dt.datetime.now()\n",
    "out = searchPairs(parse, 2020, 3, [])\n",
    "end = dt.datetime.now()\n",
    "\n",
    "print(returnInfo(out))\n",
    "\n",
    "print(\"Took {} ms to finish!\".format((end-start).microseconds/1000))"
   ]
  }
 ],
 "metadata": {
  "kernelspec": {
   "display_name": "Python 3",
   "language": "python",
   "name": "python3"
  },
  "language_info": {
   "codemirror_mode": {
    "name": "ipython",
    "version": 3
   },
   "file_extension": ".py",
   "mimetype": "text/x-python",
   "name": "python",
   "nbconvert_exporter": "python",
   "pygments_lexer": "ipython3",
   "version": "3.6.8"
  }
 },
 "nbformat": 4,
 "nbformat_minor": 2
}
